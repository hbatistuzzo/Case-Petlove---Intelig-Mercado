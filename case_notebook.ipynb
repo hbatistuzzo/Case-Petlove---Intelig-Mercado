{
 "cells": [
  {
   "cell_type": "code",
   "execution_count": 1,
   "metadata": {},
   "outputs": [],
   "source": [
    "import pandas as pd\n",
    "import numpy as np\n",
    "import gzip\n",
    "import pyarrow\n",
    "import sqlalchemy as db"
   ]
  },
  {
   "cell_type": "markdown",
   "metadata": {},
   "source": [
    "# Import data. Perform first inspection: NaNs, Duplicates, etc"
   ]
  },
  {
   "cell_type": "markdown",
   "metadata": {},
   "source": [
    "Gzip revenue file"
   ]
  },
  {
   "cell_type": "code",
   "execution_count": 11,
   "metadata": {},
   "outputs": [
    {
     "ename": "BadGzipFile",
     "evalue": "Not a gzipped file (b'PA')",
     "output_type": "error",
     "traceback": [
      "\u001b[1;31m---------------------------------------------------------------------------\u001b[0m",
      "\u001b[1;31mBadGzipFile\u001b[0m                               Traceback (most recent call last)",
      "\u001b[1;32md:\\Ironhack_D\\Case-Petlove---Intelig-Mercado\\case_notebook.ipynb Cell 3\u001b[0m in \u001b[0;36m<cell line: 2>\u001b[1;34m()\u001b[0m\n\u001b[0;32m      <a href='vscode-notebook-cell:/d%3A/Ironhack_D/Case-Petlove---Intelig-Mercado/case_notebook.ipynb#W2sZmlsZQ%3D%3D?line=0'>1</a>\u001b[0m faturamento \u001b[39m=\u001b[39m gzip\u001b[39m.\u001b[39mopen(\u001b[39m\"\u001b[39m\u001b[39mdata/faturamento.parquet.gzip\u001b[39m\u001b[39m\"\u001b[39m, \u001b[39m\"\u001b[39m\u001b[39mrb\u001b[39m\u001b[39m\"\u001b[39m)\n\u001b[1;32m----> <a href='vscode-notebook-cell:/d%3A/Ironhack_D/Case-Petlove---Intelig-Mercado/case_notebook.ipynb#W2sZmlsZQ%3D%3D?line=1'>2</a>\u001b[0m contents \u001b[39m=\u001b[39m faturamento\u001b[39m.\u001b[39;49mread()\n",
      "File \u001b[1;32mc:\\Users\\hbati\\anaconda3\\lib\\gzip.py:300\u001b[0m, in \u001b[0;36mGzipFile.read\u001b[1;34m(self, size)\u001b[0m\n\u001b[0;32m    298\u001b[0m     \u001b[39mimport\u001b[39;00m \u001b[39merrno\u001b[39;00m\n\u001b[0;32m    299\u001b[0m     \u001b[39mraise\u001b[39;00m \u001b[39mOSError\u001b[39;00m(errno\u001b[39m.\u001b[39mEBADF, \u001b[39m\"\u001b[39m\u001b[39mread() on write-only GzipFile object\u001b[39m\u001b[39m\"\u001b[39m)\n\u001b[1;32m--> 300\u001b[0m \u001b[39mreturn\u001b[39;00m \u001b[39mself\u001b[39;49m\u001b[39m.\u001b[39;49m_buffer\u001b[39m.\u001b[39;49mread(size)\n",
      "File \u001b[1;32mc:\\Users\\hbati\\anaconda3\\lib\\gzip.py:487\u001b[0m, in \u001b[0;36m_GzipReader.read\u001b[1;34m(self, size)\u001b[0m\n\u001b[0;32m    483\u001b[0m \u001b[39mif\u001b[39;00m \u001b[39mself\u001b[39m\u001b[39m.\u001b[39m_new_member:\n\u001b[0;32m    484\u001b[0m     \u001b[39m# If the _new_member flag is set, we have to\u001b[39;00m\n\u001b[0;32m    485\u001b[0m     \u001b[39m# jump to the next member, if there is one.\u001b[39;00m\n\u001b[0;32m    486\u001b[0m     \u001b[39mself\u001b[39m\u001b[39m.\u001b[39m_init_read()\n\u001b[1;32m--> 487\u001b[0m     \u001b[39mif\u001b[39;00m \u001b[39mnot\u001b[39;00m \u001b[39mself\u001b[39;49m\u001b[39m.\u001b[39;49m_read_gzip_header():\n\u001b[0;32m    488\u001b[0m         \u001b[39mself\u001b[39m\u001b[39m.\u001b[39m_size \u001b[39m=\u001b[39m \u001b[39mself\u001b[39m\u001b[39m.\u001b[39m_pos\n\u001b[0;32m    489\u001b[0m         \u001b[39mreturn\u001b[39;00m \u001b[39mb\u001b[39m\u001b[39m\"\u001b[39m\u001b[39m\"\u001b[39m\n",
      "File \u001b[1;32mc:\\Users\\hbati\\anaconda3\\lib\\gzip.py:435\u001b[0m, in \u001b[0;36m_GzipReader._read_gzip_header\u001b[1;34m(self)\u001b[0m\n\u001b[0;32m    432\u001b[0m     \u001b[39mreturn\u001b[39;00m \u001b[39mFalse\u001b[39;00m\n\u001b[0;32m    434\u001b[0m \u001b[39mif\u001b[39;00m magic \u001b[39m!=\u001b[39m \u001b[39mb\u001b[39m\u001b[39m'\u001b[39m\u001b[39m\\037\u001b[39;00m\u001b[39m\\213\u001b[39;00m\u001b[39m'\u001b[39m:\n\u001b[1;32m--> 435\u001b[0m     \u001b[39mraise\u001b[39;00m BadGzipFile(\u001b[39m'\u001b[39m\u001b[39mNot a gzipped file (\u001b[39m\u001b[39m%r\u001b[39;00m\u001b[39m)\u001b[39m\u001b[39m'\u001b[39m \u001b[39m%\u001b[39m magic)\n\u001b[0;32m    437\u001b[0m (method, flag,\n\u001b[0;32m    438\u001b[0m  \u001b[39mself\u001b[39m\u001b[39m.\u001b[39m_last_mtime) \u001b[39m=\u001b[39m struct\u001b[39m.\u001b[39munpack(\u001b[39m\"\u001b[39m\u001b[39m<BBIxx\u001b[39m\u001b[39m\"\u001b[39m, \u001b[39mself\u001b[39m\u001b[39m.\u001b[39m_read_exact(\u001b[39m8\u001b[39m))\n\u001b[0;32m    439\u001b[0m \u001b[39mif\u001b[39;00m method \u001b[39m!=\u001b[39m \u001b[39m8\u001b[39m:\n",
      "\u001b[1;31mBadGzipFile\u001b[0m: Not a gzipped file (b'PA')"
     ]
    }
   ],
   "source": [
    "fat = gzip.open(\"data/faturamento.parquet.gzip\", \"rb\")\n",
    "contents = fat.read()\n",
    "\n",
    "# gzip refuses to work. \"BadGzipFile: Not a gzipped file (b'PA')\"\n",
    "# so instead, we're going to try importing it directly into pandas with pd.read_parquet"
   ]
  },
  {
   "cell_type": "code",
   "execution_count": null,
   "metadata": {},
   "outputs": [],
   "source": [
    "# !pip install pyarrow"
   ]
  },
  {
   "cell_type": "code",
   "execution_count": 2,
   "metadata": {},
   "outputs": [],
   "source": [
    "fat= pd.read_parquet('data/faturamento.parquet.gzip')"
   ]
  },
  {
   "cell_type": "code",
   "execution_count": 3,
   "metadata": {},
   "outputs": [
    {
     "data": {
      "text/html": [
       "<div>\n",
       "<style scoped>\n",
       "    .dataframe tbody tr th:only-of-type {\n",
       "        vertical-align: middle;\n",
       "    }\n",
       "\n",
       "    .dataframe tbody tr th {\n",
       "        vertical-align: top;\n",
       "    }\n",
       "\n",
       "    .dataframe thead th {\n",
       "        text-align: right;\n",
       "    }\n",
       "</style>\n",
       "<table border=\"1\" class=\"dataframe\">\n",
       "  <thead>\n",
       "    <tr style=\"text-align: right;\">\n",
       "      <th></th>\n",
       "      <th>id_nota</th>\n",
       "      <th>sku</th>\n",
       "      <th>dia_emissao_nota</th>\n",
       "      <th>uf_entrega</th>\n",
       "      <th>quantidade</th>\n",
       "      <th>receita</th>\n",
       "    </tr>\n",
       "  </thead>\n",
       "  <tbody>\n",
       "    <tr>\n",
       "      <th>0</th>\n",
       "      <td>1594</td>\n",
       "      <td>1065173</td>\n",
       "      <td>2017-06-14</td>\n",
       "      <td>AL</td>\n",
       "      <td>8</td>\n",
       "      <td>968.69</td>\n",
       "    </tr>\n",
       "    <tr>\n",
       "      <th>1</th>\n",
       "      <td>1003</td>\n",
       "      <td>1454883</td>\n",
       "      <td>2019-02-09</td>\n",
       "      <td>SP</td>\n",
       "      <td>4</td>\n",
       "      <td>1135.49</td>\n",
       "    </tr>\n",
       "    <tr>\n",
       "      <th>2</th>\n",
       "      <td>2980</td>\n",
       "      <td>1708042</td>\n",
       "      <td>2017-03-14</td>\n",
       "      <td>PB</td>\n",
       "      <td>2</td>\n",
       "      <td>807.68</td>\n",
       "    </tr>\n",
       "    <tr>\n",
       "      <th>3</th>\n",
       "      <td>2685</td>\n",
       "      <td>1207302</td>\n",
       "      <td>2017-11-11</td>\n",
       "      <td>MG</td>\n",
       "      <td>2</td>\n",
       "      <td>889.16</td>\n",
       "    </tr>\n",
       "    <tr>\n",
       "      <th>4</th>\n",
       "      <td>1889</td>\n",
       "      <td>1780862</td>\n",
       "      <td>2018-05-28</td>\n",
       "      <td>SP</td>\n",
       "      <td>3</td>\n",
       "      <td>2378.21</td>\n",
       "    </tr>\n",
       "  </tbody>\n",
       "</table>\n",
       "</div>"
      ],
      "text/plain": [
       "   id_nota      sku dia_emissao_nota uf_entrega  quantidade  receita\n",
       "0     1594  1065173       2017-06-14         AL           8   968.69\n",
       "1     1003  1454883       2019-02-09         SP           4  1135.49\n",
       "2     2980  1708042       2017-03-14         PB           2   807.68\n",
       "3     2685  1207302       2017-11-11         MG           2   889.16\n",
       "4     1889  1780862       2018-05-28         SP           3  2378.21"
      ]
     },
     "execution_count": 3,
     "metadata": {},
     "output_type": "execute_result"
    }
   ],
   "source": [
    "fat.head() # not sorted yet"
   ]
  },
  {
   "cell_type": "code",
   "execution_count": 35,
   "metadata": {},
   "outputs": [
    {
     "name": "stdout",
     "output_type": "stream",
     "text": [
      "<class 'pandas.core.frame.DataFrame'>\n",
      "RangeIndex: 1500000 entries, 0 to 1499999\n",
      "Data columns (total 6 columns):\n",
      " #   Column            Non-Null Count    Dtype         \n",
      "---  ------            --------------    -----         \n",
      " 0   id_nota           1500000 non-null  int64         \n",
      " 1   sku               1500000 non-null  object        \n",
      " 2   dia_emissao_nota  1500000 non-null  datetime64[ns]\n",
      " 3   uf_entrega        1500000 non-null  object        \n",
      " 4   quantidade        1500000 non-null  int64         \n",
      " 5   receita           1500000 non-null  float64       \n",
      "dtypes: datetime64[ns](1), float64(1), int64(2), object(2)\n",
      "memory usage: 68.7+ MB\n"
     ]
    }
   ],
   "source": [
    "# fat.shape yields 1,500,000 files, 6 columns.\n",
    "fat.info() # no NaNs."
   ]
  },
  {
   "cell_type": "code",
   "execution_count": 36,
   "metadata": {},
   "outputs": [
    {
     "data": {
      "text/html": [
       "<div>\n",
       "<style scoped>\n",
       "    .dataframe tbody tr th:only-of-type {\n",
       "        vertical-align: middle;\n",
       "    }\n",
       "\n",
       "    .dataframe tbody tr th {\n",
       "        vertical-align: top;\n",
       "    }\n",
       "\n",
       "    .dataframe thead th {\n",
       "        text-align: right;\n",
       "    }\n",
       "</style>\n",
       "<table border=\"1\" class=\"dataframe\">\n",
       "  <thead>\n",
       "    <tr style=\"text-align: right;\">\n",
       "      <th></th>\n",
       "      <th>id_nota</th>\n",
       "      <th>sku</th>\n",
       "      <th>dia_emissao_nota</th>\n",
       "      <th>uf_entrega</th>\n",
       "      <th>quantidade</th>\n",
       "      <th>receita</th>\n",
       "    </tr>\n",
       "  </thead>\n",
       "  <tbody>\n",
       "  </tbody>\n",
       "</table>\n",
       "</div>"
      ],
      "text/plain": [
       "Empty DataFrame\n",
       "Columns: [id_nota, sku, dia_emissao_nota, uf_entrega, quantidade, receita]\n",
       "Index: []"
      ]
     },
     "execution_count": 36,
     "metadata": {},
     "output_type": "execute_result"
    }
   ],
   "source": [
    "fat[fat.duplicated()] # no duplicates."
   ]
  },
  {
   "cell_type": "markdown",
   "metadata": {},
   "source": [
    "JSON product family file"
   ]
  },
  {
   "cell_type": "code",
   "execution_count": 4,
   "metadata": {},
   "outputs": [],
   "source": [
    "family = pd.read_json('data/familiasetor.json')"
   ]
  },
  {
   "cell_type": "code",
   "execution_count": 5,
   "metadata": {},
   "outputs": [
    {
     "data": {
      "text/html": [
       "<div>\n",
       "<style scoped>\n",
       "    .dataframe tbody tr th:only-of-type {\n",
       "        vertical-align: middle;\n",
       "    }\n",
       "\n",
       "    .dataframe tbody tr th {\n",
       "        vertical-align: top;\n",
       "    }\n",
       "\n",
       "    .dataframe thead th {\n",
       "        text-align: right;\n",
       "    }\n",
       "</style>\n",
       "<table border=\"1\" class=\"dataframe\">\n",
       "  <thead>\n",
       "    <tr style=\"text-align: right;\">\n",
       "      <th></th>\n",
       "      <th>sku</th>\n",
       "      <th>familia</th>\n",
       "      <th>setor</th>\n",
       "    </tr>\n",
       "  </thead>\n",
       "  <tbody>\n",
       "    <tr>\n",
       "      <th>0</th>\n",
       "      <td>1052974</td>\n",
       "      <td>Cachorros</td>\n",
       "      <td>Higiene e Beleza</td>\n",
       "    </tr>\n",
       "    <tr>\n",
       "      <th>1</th>\n",
       "      <td>1597561</td>\n",
       "      <td>Cachorros</td>\n",
       "      <td>Higiene e Beleza</td>\n",
       "    </tr>\n",
       "    <tr>\n",
       "      <th>2</th>\n",
       "      <td>1704369</td>\n",
       "      <td>Cachorros</td>\n",
       "      <td>Medicina e Bem Estar</td>\n",
       "    </tr>\n",
       "    <tr>\n",
       "      <th>3</th>\n",
       "      <td>1785992</td>\n",
       "      <td>Gatos</td>\n",
       "      <td>Alimentos</td>\n",
       "    </tr>\n",
       "    <tr>\n",
       "      <th>4</th>\n",
       "      <td>1555697</td>\n",
       "      <td>Cachorros</td>\n",
       "      <td>Higiene e Beleza</td>\n",
       "    </tr>\n",
       "  </tbody>\n",
       "</table>\n",
       "</div>"
      ],
      "text/plain": [
       "       sku    familia                 setor\n",
       "0  1052974  Cachorros      Higiene e Beleza\n",
       "1  1597561  Cachorros      Higiene e Beleza\n",
       "2  1704369  Cachorros  Medicina e Bem Estar\n",
       "3  1785992      Gatos             Alimentos\n",
       "4  1555697  Cachorros      Higiene e Beleza"
      ]
     },
     "execution_count": 5,
     "metadata": {},
     "output_type": "execute_result"
    }
   ],
   "source": [
    "family.head()"
   ]
  },
  {
   "cell_type": "code",
   "execution_count": 6,
   "metadata": {},
   "outputs": [
    {
     "name": "stdout",
     "output_type": "stream",
     "text": [
      "<class 'pandas.core.frame.DataFrame'>\n",
      "Int64Index: 776914 entries, 0 to 776913\n",
      "Data columns (total 3 columns):\n",
      " #   Column   Non-Null Count   Dtype \n",
      "---  ------   --------------   ----- \n",
      " 0   sku      776914 non-null  int64 \n",
      " 1   familia  776914 non-null  object\n",
      " 2   setor    776914 non-null  object\n",
      "dtypes: int64(1), object(2)\n",
      "memory usage: 23.7+ MB\n"
     ]
    }
   ],
   "source": [
    "# family.shape yields 776,914 values. 3 columns.\n",
    "\n",
    "family.info() # no nulls\n",
    "\n"
   ]
  },
  {
   "cell_type": "code",
   "execution_count": 49,
   "metadata": {},
   "outputs": [
    {
     "data": {
      "text/html": [
       "<div>\n",
       "<style scoped>\n",
       "    .dataframe tbody tr th:only-of-type {\n",
       "        vertical-align: middle;\n",
       "    }\n",
       "\n",
       "    .dataframe tbody tr th {\n",
       "        vertical-align: top;\n",
       "    }\n",
       "\n",
       "    .dataframe thead th {\n",
       "        text-align: right;\n",
       "    }\n",
       "</style>\n",
       "<table border=\"1\" class=\"dataframe\">\n",
       "  <thead>\n",
       "    <tr style=\"text-align: right;\">\n",
       "      <th></th>\n",
       "      <th>sku</th>\n",
       "      <th>familia</th>\n",
       "      <th>setor</th>\n",
       "    </tr>\n",
       "  </thead>\n",
       "  <tbody>\n",
       "  </tbody>\n",
       "</table>\n",
       "</div>"
      ],
      "text/plain": [
       "Empty DataFrame\n",
       "Columns: [sku, familia, setor]\n",
       "Index: []"
      ]
     },
     "execution_count": 49,
     "metadata": {},
     "output_type": "execute_result"
    }
   ],
   "source": [
    "family[family.duplicated()] # no duplicates"
   ]
  },
  {
   "cell_type": "markdown",
   "metadata": {},
   "source": [
    "CSV shipping file"
   ]
  },
  {
   "cell_type": "code",
   "execution_count": 74,
   "metadata": {},
   "outputs": [],
   "source": [
    "# notepad indicates utf-16 LE encoding.\n",
    "# Manualy altered the header to: index | uf_entrega | dia | custo_frete"
   ]
  },
  {
   "cell_type": "code",
   "execution_count": 127,
   "metadata": {},
   "outputs": [
    {
     "data": {
      "text/html": [
       "<div>\n",
       "<style scoped>\n",
       "    .dataframe tbody tr th:only-of-type {\n",
       "        vertical-align: middle;\n",
       "    }\n",
       "\n",
       "    .dataframe tbody tr th {\n",
       "        vertical-align: top;\n",
       "    }\n",
       "\n",
       "    .dataframe thead th {\n",
       "        text-align: right;\n",
       "    }\n",
       "</style>\n",
       "<table border=\"1\" class=\"dataframe\">\n",
       "  <thead>\n",
       "    <tr style=\"text-align: right;\">\n",
       "      <th></th>\n",
       "      <th>index</th>\n",
       "      <th>uf_entrega</th>\n",
       "      <th>dia</th>\n",
       "      <th>custo_frete</th>\n",
       "    </tr>\n",
       "  </thead>\n",
       "  <tbody>\n",
       "    <tr>\n",
       "      <th>0</th>\n",
       "      <td>0</td>\n",
       "      <td>S P</td>\n",
       "      <td>2 0 1 8 - 0 7 - 2 8</td>\n",
       "      <td>7 0 5 1 , 5 9 1 8</td>\n",
       "    </tr>\n",
       "    <tr>\n",
       "      <th>1</th>\n",
       "      <td>1</td>\n",
       "      <td>S P</td>\n",
       "      <td>2 0 1 7 - 0 2 - 1 2</td>\n",
       "      <td>9 1 5 1 , 4 8 3 1</td>\n",
       "    </tr>\n",
       "    <tr>\n",
       "      <th>2</th>\n",
       "      <td>2</td>\n",
       "      <td>R J</td>\n",
       "      <td>2 0 1 7 - 0 6 - 1 6</td>\n",
       "      <td>4 9 0 3 , 3 4 8 6</td>\n",
       "    </tr>\n",
       "    <tr>\n",
       "      <th>3</th>\n",
       "      <td>3</td>\n",
       "      <td>P E</td>\n",
       "      <td>2 0 1 8 - 0 5 - 0 5</td>\n",
       "      <td>1 1 5 0 , 0 8 5 8</td>\n",
       "    </tr>\n",
       "    <tr>\n",
       "      <th>4</th>\n",
       "      <td>4</td>\n",
       "      <td>R J</td>\n",
       "      <td>2 0 1 7 - 0 6 - 0 6</td>\n",
       "      <td>4 2 9 2 , 1 9 7 3</td>\n",
       "    </tr>\n",
       "  </tbody>\n",
       "</table>\n",
       "</div>"
      ],
      "text/plain": [
       "  index   uf_entrega                    dia           custo_frete\n",
       "0     0          S P    2 0 1 8 - 0 7 - 2 8    7 0 5 1 , 5 9 1 8 \n",
       "1     1          S P    2 0 1 7 - 0 2 - 1 2    9 1 5 1 , 4 8 3 1 \n",
       "2     2          R J    2 0 1 7 - 0 6 - 1 6    4 9 0 3 , 3 4 8 6 \n",
       "3     3          P E    2 0 1 8 - 0 5 - 0 5    1 1 5 0 , 0 8 5 8 \n",
       "4     4          R J    2 0 1 7 - 0 6 - 0 6    4 2 9 2 , 1 9 7 3 "
      ]
     },
     "execution_count": 127,
     "metadata": {},
     "output_type": "execute_result"
    }
   ],
   "source": [
    "# ship = pd.read_csv('data/frete.csv',sep = '|', encoding='utf-16',index_col = 0)\n",
    "ship = pd.read_csv('data/frete.csv',sep = '|', encoding='utf-16')\n",
    "\n",
    "ship.head() #"
   ]
  },
  {
   "cell_type": "code",
   "execution_count": 128,
   "metadata": {},
   "outputs": [
    {
     "name": "stdout",
     "output_type": "stream",
     "text": [
      "<class 'pandas.core.frame.DataFrame'>\n",
      "RangeIndex: 20773 entries, 0 to 20772\n",
      "Data columns (total 4 columns):\n",
      " #   Column        Non-Null Count  Dtype \n",
      "---  ------        --------------  ----- \n",
      " 0   index         20773 non-null  object\n",
      " 1    uf_entrega   20773 non-null  object\n",
      " 2    dia          20773 non-null  object\n",
      " 3    custo_frete  20773 non-null  object\n",
      "dtypes: object(4)\n",
      "memory usage: 649.3+ KB\n"
     ]
    }
   ],
   "source": [
    "ship.shape #20774 rows, 4 columns\n",
    "\n",
    "ship.info() # no NaNs"
   ]
  },
  {
   "cell_type": "code",
   "execution_count": 129,
   "metadata": {},
   "outputs": [],
   "source": [
    "#lets normalize the headers\n",
    "ship.columns=ship.columns.str.strip()"
   ]
  },
  {
   "cell_type": "code",
   "execution_count": 130,
   "metadata": {},
   "outputs": [],
   "source": [
    "# we can drop this index column\n",
    "ship = ship.drop(['index'],axis=1)"
   ]
  },
  {
   "cell_type": "code",
   "execution_count": 131,
   "metadata": {},
   "outputs": [
    {
     "data": {
      "text/html": [
       "<div>\n",
       "<style scoped>\n",
       "    .dataframe tbody tr th:only-of-type {\n",
       "        vertical-align: middle;\n",
       "    }\n",
       "\n",
       "    .dataframe tbody tr th {\n",
       "        vertical-align: top;\n",
       "    }\n",
       "\n",
       "    .dataframe thead th {\n",
       "        text-align: right;\n",
       "    }\n",
       "</style>\n",
       "<table border=\"1\" class=\"dataframe\">\n",
       "  <thead>\n",
       "    <tr style=\"text-align: right;\">\n",
       "      <th></th>\n",
       "      <th>uf_entrega</th>\n",
       "      <th>dia</th>\n",
       "      <th>custo_frete</th>\n",
       "    </tr>\n",
       "  </thead>\n",
       "  <tbody>\n",
       "  </tbody>\n",
       "</table>\n",
       "</div>"
      ],
      "text/plain": [
       "Empty DataFrame\n",
       "Columns: [uf_entrega, dia, custo_frete]\n",
       "Index: []"
      ]
     },
     "execution_count": 131,
     "metadata": {},
     "output_type": "execute_result"
    }
   ],
   "source": [
    "ship[ship.duplicated()] # no duplicates"
   ]
  },
  {
   "cell_type": "code",
   "execution_count": 132,
   "metadata": {},
   "outputs": [],
   "source": [
    "# We should normalize this table. Dia to datetime64[ns] and custo_frete to float (btw what a crazy cost, 4 decimals?)"
   ]
  },
  {
   "cell_type": "code",
   "execution_count": 133,
   "metadata": {},
   "outputs": [],
   "source": [
    "ship_norm = ship"
   ]
  },
  {
   "cell_type": "code",
   "execution_count": 134,
   "metadata": {},
   "outputs": [],
   "source": [
    "# str.replace method will solve this issue\n",
    "ship_norm['uf_entrega'] = ship_norm['uf_entrega'].str.replace(' ', '')\n",
    "ship_norm['dia'] = ship_norm['dia'].str.replace(' ', '')\n",
    "ship_norm['custo_frete'] = ship_norm['custo_frete'].str.replace(' ', '')\n"
   ]
  },
  {
   "cell_type": "code",
   "execution_count": 135,
   "metadata": {},
   "outputs": [
    {
     "data": {
      "text/html": [
       "<div>\n",
       "<style scoped>\n",
       "    .dataframe tbody tr th:only-of-type {\n",
       "        vertical-align: middle;\n",
       "    }\n",
       "\n",
       "    .dataframe tbody tr th {\n",
       "        vertical-align: top;\n",
       "    }\n",
       "\n",
       "    .dataframe thead th {\n",
       "        text-align: right;\n",
       "    }\n",
       "</style>\n",
       "<table border=\"1\" class=\"dataframe\">\n",
       "  <thead>\n",
       "    <tr style=\"text-align: right;\">\n",
       "      <th></th>\n",
       "      <th>uf_entrega</th>\n",
       "      <th>dia</th>\n",
       "      <th>custo_frete</th>\n",
       "    </tr>\n",
       "  </thead>\n",
       "  <tbody>\n",
       "    <tr>\n",
       "      <th>0</th>\n",
       "      <td>SP</td>\n",
       "      <td>2018-07-28</td>\n",
       "      <td>7051,5918</td>\n",
       "    </tr>\n",
       "    <tr>\n",
       "      <th>1</th>\n",
       "      <td>SP</td>\n",
       "      <td>2017-02-12</td>\n",
       "      <td>9151,4831</td>\n",
       "    </tr>\n",
       "    <tr>\n",
       "      <th>2</th>\n",
       "      <td>RJ</td>\n",
       "      <td>2017-06-16</td>\n",
       "      <td>4903,3486</td>\n",
       "    </tr>\n",
       "    <tr>\n",
       "      <th>3</th>\n",
       "      <td>PE</td>\n",
       "      <td>2018-05-05</td>\n",
       "      <td>1150,0858</td>\n",
       "    </tr>\n",
       "    <tr>\n",
       "      <th>4</th>\n",
       "      <td>RJ</td>\n",
       "      <td>2017-06-06</td>\n",
       "      <td>4292,1973</td>\n",
       "    </tr>\n",
       "  </tbody>\n",
       "</table>\n",
       "</div>"
      ],
      "text/plain": [
       "  uf_entrega         dia custo_frete\n",
       "0         SP  2018-07-28   7051,5918\n",
       "1         SP  2017-02-12   9151,4831\n",
       "2         RJ  2017-06-16   4903,3486\n",
       "3         PE  2018-05-05   1150,0858\n",
       "4         RJ  2017-06-06   4292,1973"
      ]
     },
     "execution_count": 135,
     "metadata": {},
     "output_type": "execute_result"
    }
   ],
   "source": [
    "ship_norm.head()"
   ]
  },
  {
   "cell_type": "code",
   "execution_count": 141,
   "metadata": {},
   "outputs": [
    {
     "name": "stdout",
     "output_type": "stream",
     "text": [
      "<class 'pandas.core.frame.DataFrame'>\n",
      "RangeIndex: 20773 entries, 0 to 20772\n",
      "Data columns (total 3 columns):\n",
      " #   Column       Non-Null Count  Dtype         \n",
      "---  ------       --------------  -----         \n",
      " 0   uf_entrega   20773 non-null  object        \n",
      " 1   dia          20773 non-null  datetime64[ns]\n",
      " 2   custo_frete  20773 non-null  object        \n",
      "dtypes: datetime64[ns](1), object(2)\n",
      "memory usage: 487.0+ KB\n"
     ]
    }
   ],
   "source": [
    "ship_norm.info()\n",
    "# now change dia to date, round the custo_frete and.. change commas to dot"
   ]
  },
  {
   "cell_type": "code",
   "execution_count": 140,
   "metadata": {},
   "outputs": [],
   "source": [
    "ship_norm['dia'] = pd.to_datetime(ship_norm['dia'])"
   ]
  },
  {
   "cell_type": "code",
   "execution_count": 143,
   "metadata": {},
   "outputs": [],
   "source": [
    "#now to round cost:\n",
    "ship_norm['custo_frete'] = ship_norm['custo_frete'].str.replace(',','.')\n"
   ]
  },
  {
   "cell_type": "code",
   "execution_count": 146,
   "metadata": {},
   "outputs": [],
   "source": [
    "ship_norm['custo_frete'] = ship_norm['custo_frete'].astype('float')"
   ]
  },
  {
   "cell_type": "code",
   "execution_count": 150,
   "metadata": {},
   "outputs": [],
   "source": [
    "ship_norm['custo_frete'] = ship_norm['custo_frete'].round(2)"
   ]
  },
  {
   "cell_type": "code",
   "execution_count": 151,
   "metadata": {},
   "outputs": [
    {
     "name": "stdout",
     "output_type": "stream",
     "text": [
      "<class 'pandas.core.frame.DataFrame'>\n",
      "RangeIndex: 20773 entries, 0 to 20772\n",
      "Data columns (total 3 columns):\n",
      " #   Column       Non-Null Count  Dtype         \n",
      "---  ------       --------------  -----         \n",
      " 0   uf_entrega   20773 non-null  object        \n",
      " 1   dia          20773 non-null  datetime64[ns]\n",
      " 2   custo_frete  20773 non-null  float64       \n",
      "dtypes: datetime64[ns](1), float64(1), object(1)\n",
      "memory usage: 487.0+ KB\n"
     ]
    }
   ],
   "source": [
    "ship_norm.info()"
   ]
  },
  {
   "cell_type": "markdown",
   "metadata": {},
   "source": [
    "TXT weight file. \"Peso unitário do SKU. Usado para o custo de frete.\""
   ]
  },
  {
   "cell_type": "code",
   "execution_count": 154,
   "metadata": {},
   "outputs": [
    {
     "data": {
      "text/html": [
       "<div>\n",
       "<style scoped>\n",
       "    .dataframe tbody tr th:only-of-type {\n",
       "        vertical-align: middle;\n",
       "    }\n",
       "\n",
       "    .dataframe tbody tr th {\n",
       "        vertical-align: top;\n",
       "    }\n",
       "\n",
       "    .dataframe thead th {\n",
       "        text-align: right;\n",
       "    }\n",
       "</style>\n",
       "<table border=\"1\" class=\"dataframe\">\n",
       "  <thead>\n",
       "    <tr style=\"text-align: right;\">\n",
       "      <th></th>\n",
       "      <th>sku</th>\n",
       "      <th>peso_unitario</th>\n",
       "    </tr>\n",
       "  </thead>\n",
       "  <tbody>\n",
       "    <tr>\n",
       "      <th>0</th>\n",
       "      <td>1 1 8 2 4 0 1</td>\n",
       "      <td>3 . 1 4 0 0 0 0</td>\n",
       "    </tr>\n",
       "    <tr>\n",
       "      <th>1</th>\n",
       "      <td>1 0 4 5 1 1 0</td>\n",
       "      <td>0 . 3 0 0 0 0 0</td>\n",
       "    </tr>\n",
       "    <tr>\n",
       "      <th>2</th>\n",
       "      <td>1 6 0 3 0 2 2</td>\n",
       "      <td>0 . 2 7 0 0 0 0</td>\n",
       "    </tr>\n",
       "    <tr>\n",
       "      <th>3</th>\n",
       "      <td>1 1 4 2 9 7 9</td>\n",
       "      <td>0 . 1 3 0 0 0 0</td>\n",
       "    </tr>\n",
       "    <tr>\n",
       "      <th>4</th>\n",
       "      <td>1 1 1 4 9 8 8</td>\n",
       "      <td>0 . 2 0 0 0 0 0</td>\n",
       "    </tr>\n",
       "  </tbody>\n",
       "</table>\n",
       "</div>"
      ],
      "text/plain": [
       "             sku     peso_unitario\n",
       "0  1 1 8 2 4 0 1   3 . 1 4 0 0 0 0\n",
       "1  1 0 4 5 1 1 0   0 . 3 0 0 0 0 0\n",
       "2  1 6 0 3 0 2 2   0 . 2 7 0 0 0 0\n",
       "3  1 1 4 2 9 7 9   0 . 1 3 0 0 0 0\n",
       "4  1 1 1 4 9 8 8   0 . 2 0 0 0 0 0"
      ]
     },
     "execution_count": 154,
     "metadata": {},
     "output_type": "execute_result"
    }
   ],
   "source": [
    "weight = pd.read_table('data/peso_unitario.txt',encoding='utf-16', sep = '  ', engine='python') # also has encoding utf-16.\n",
    "# manually inserted a header: 'sku   peso_unitario'\n",
    "\n",
    "weight.head()"
   ]
  },
  {
   "cell_type": "code",
   "execution_count": 155,
   "metadata": {},
   "outputs": [
    {
     "name": "stdout",
     "output_type": "stream",
     "text": [
      "<class 'pandas.core.frame.DataFrame'>\n",
      "RangeIndex: 776914 entries, 0 to 776913\n",
      "Data columns (total 2 columns):\n",
      " #   Column          Non-Null Count   Dtype \n",
      "---  ------          --------------   ----- \n",
      " 0   sku             776914 non-null  object\n",
      " 1    peso_unitario  776914 non-null  object\n",
      "dtypes: object(2)\n",
      "memory usage: 11.9+ MB\n"
     ]
    }
   ],
   "source": [
    "# weight.shape # yields 776,914 values (same as family). 2 columns.\n",
    "\n",
    "weight.info() # no nulls"
   ]
  },
  {
   "cell_type": "code",
   "execution_count": 156,
   "metadata": {},
   "outputs": [
    {
     "data": {
      "text/html": [
       "<div>\n",
       "<style scoped>\n",
       "    .dataframe tbody tr th:only-of-type {\n",
       "        vertical-align: middle;\n",
       "    }\n",
       "\n",
       "    .dataframe tbody tr th {\n",
       "        vertical-align: top;\n",
       "    }\n",
       "\n",
       "    .dataframe thead th {\n",
       "        text-align: right;\n",
       "    }\n",
       "</style>\n",
       "<table border=\"1\" class=\"dataframe\">\n",
       "  <thead>\n",
       "    <tr style=\"text-align: right;\">\n",
       "      <th></th>\n",
       "      <th>sku</th>\n",
       "      <th>peso_unitario</th>\n",
       "    </tr>\n",
       "  </thead>\n",
       "  <tbody>\n",
       "  </tbody>\n",
       "</table>\n",
       "</div>"
      ],
      "text/plain": [
       "Empty DataFrame\n",
       "Columns: [sku,  peso_unitario]\n",
       "Index: []"
      ]
     },
     "execution_count": 156,
     "metadata": {},
     "output_type": "execute_result"
    }
   ],
   "source": [
    "weight[weight.duplicated()] # no duplicates"
   ]
  },
  {
   "cell_type": "code",
   "execution_count": 158,
   "metadata": {},
   "outputs": [],
   "source": [
    "weight.columns = weight.columns.str.strip()"
   ]
  },
  {
   "cell_type": "code",
   "execution_count": 162,
   "metadata": {},
   "outputs": [],
   "source": [
    "weight['sku'] = weight['sku'].str.replace(' ','')\n",
    "weight['peso_unitario'] = weight['peso_unitario'].str.replace(' ','')"
   ]
  },
  {
   "cell_type": "code",
   "execution_count": 164,
   "metadata": {},
   "outputs": [
    {
     "data": {
      "text/html": [
       "<div>\n",
       "<style scoped>\n",
       "    .dataframe tbody tr th:only-of-type {\n",
       "        vertical-align: middle;\n",
       "    }\n",
       "\n",
       "    .dataframe tbody tr th {\n",
       "        vertical-align: top;\n",
       "    }\n",
       "\n",
       "    .dataframe thead th {\n",
       "        text-align: right;\n",
       "    }\n",
       "</style>\n",
       "<table border=\"1\" class=\"dataframe\">\n",
       "  <thead>\n",
       "    <tr style=\"text-align: right;\">\n",
       "      <th></th>\n",
       "      <th>sku</th>\n",
       "      <th>peso_unitario</th>\n",
       "    </tr>\n",
       "  </thead>\n",
       "  <tbody>\n",
       "    <tr>\n",
       "      <th>776909</th>\n",
       "      <td>1183894</td>\n",
       "      <td>7.630000</td>\n",
       "    </tr>\n",
       "    <tr>\n",
       "      <th>776910</th>\n",
       "      <td>1237125</td>\n",
       "      <td>10.200000</td>\n",
       "    </tr>\n",
       "    <tr>\n",
       "      <th>776911</th>\n",
       "      <td>1327455</td>\n",
       "      <td>0.150000</td>\n",
       "    </tr>\n",
       "    <tr>\n",
       "      <th>776912</th>\n",
       "      <td>1927355</td>\n",
       "      <td>3.110000</td>\n",
       "    </tr>\n",
       "    <tr>\n",
       "      <th>776913</th>\n",
       "      <td>1228822</td>\n",
       "      <td>0.100000</td>\n",
       "    </tr>\n",
       "  </tbody>\n",
       "</table>\n",
       "</div>"
      ],
      "text/plain": [
       "            sku peso_unitario\n",
       "776909  1183894      7.630000\n",
       "776910  1237125     10.200000\n",
       "776911  1327455      0.150000\n",
       "776912  1927355      3.110000\n",
       "776913  1228822      0.100000"
      ]
     },
     "execution_count": 164,
     "metadata": {},
     "output_type": "execute_result"
    }
   ],
   "source": [
    "weight.tail()"
   ]
  },
  {
   "cell_type": "markdown",
   "metadata": {},
   "source": [
    "# SQL Ingestion with sqlalchemy"
   ]
  },
  {
   "cell_type": "code",
   "execution_count": 166,
   "metadata": {},
   "outputs": [],
   "source": [
    "db_server='pymysql'\n",
    "user='root'\n",
    "db_port = '3306'\n",
    "password = 'password'\n",
    "ip = '127.0.0.1'\n",
    "db_name = 'petlove' # schema do sql check\n",
    "engine = db.create_engine(f'mysql+{db_server}://{user}:{password}@{ip}:{db_port}/{db_name}?charset=utf8')\n",
    "conn = engine.connect()"
   ]
  },
  {
   "cell_type": "code",
   "execution_count": 167,
   "metadata": {},
   "outputs": [
    {
     "data": {
      "text/plain": [
       "1500000"
      ]
     },
     "execution_count": 167,
     "metadata": {},
     "output_type": "execute_result"
    }
   ],
   "source": [
    "fat.to_sql('fat', conn, if_exists='replace', index=False)"
   ]
  },
  {
   "cell_type": "code",
   "execution_count": 168,
   "metadata": {},
   "outputs": [
    {
     "data": {
      "text/plain": [
       "776914"
      ]
     },
     "execution_count": 168,
     "metadata": {},
     "output_type": "execute_result"
    }
   ],
   "source": [
    "family.to_sql('family', conn, if_exists='replace', index=False)"
   ]
  },
  {
   "cell_type": "code",
   "execution_count": 169,
   "metadata": {},
   "outputs": [
    {
     "data": {
      "text/plain": [
       "20773"
      ]
     },
     "execution_count": 169,
     "metadata": {},
     "output_type": "execute_result"
    }
   ],
   "source": [
    "ship_norm.to_sql('ship', conn, if_exists='replace', index=False)"
   ]
  },
  {
   "cell_type": "code",
   "execution_count": 170,
   "metadata": {},
   "outputs": [
    {
     "data": {
      "text/plain": [
       "776914"
      ]
     },
     "execution_count": 170,
     "metadata": {},
     "output_type": "execute_result"
    }
   ],
   "source": [
    "weight.to_sql('weight', conn, if_exists='replace', index=False)"
   ]
  },
  {
   "cell_type": "code",
   "execution_count": null,
   "metadata": {},
   "outputs": [],
   "source": []
  },
  {
   "cell_type": "code",
   "execution_count": null,
   "metadata": {},
   "outputs": [],
   "source": []
  }
 ],
 "metadata": {
  "kernelspec": {
   "display_name": "Python 3.9.13 ('base')",
   "language": "python",
   "name": "python3"
  },
  "language_info": {
   "codemirror_mode": {
    "name": "ipython",
    "version": 3
   },
   "file_extension": ".py",
   "mimetype": "text/x-python",
   "name": "python",
   "nbconvert_exporter": "python",
   "pygments_lexer": "ipython3",
   "version": "3.9.13"
  },
  "orig_nbformat": 4,
  "vscode": {
   "interpreter": {
    "hash": "88279d2366fe020547cde40dd65aa0e3aa662a6ec1f3ca12d88834876c85e1a6"
   }
  }
 },
 "nbformat": 4,
 "nbformat_minor": 2
}
